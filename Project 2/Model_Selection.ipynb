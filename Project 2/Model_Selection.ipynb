{
 "cells": [
  {
   "cell_type": "markdown",
   "metadata": {},
   "source": [
    "# Project 2: Choosing a Model for Predicting on Unseen Data\n",
    "\n"
   ]
  },
  {
   "cell_type": "markdown",
   "metadata": {},
   "source": [
    "**Parampreet SINGH, #C19377466**"
   ]
  },
  {
   "cell_type": "markdown",
   "metadata": {},
   "source": [
    "# General Rules of the Project Submission\n",
    "\n",
    "Python 3 and [Matplotlib](https://matplotlib.org/) will be used throughout the semseter, so it is important to be familiar with them. It is strongly suggested to go through [Stanford CS231n](http://cs231n.github.io/python-numpy-tutorial/) and [CS228](https://github.com/kuleshov/cs228-material/blob/master/tutorials/python/cs228-python-tutorial.ipynb) for more detailed Python and numpy tutorials if you haven't had used Python before. \n",
    "\n",
    "In some cells and files you will see code blocks that look like this:\n",
    "\n",
    "```python\n",
    "##############################################################################\n",
    "#                    TODO: Write the equation for a line                     #\n",
    "##############################################################################\n",
    "pass\n",
    "##############################################################################\n",
    "#                              END OF YOUR CODE                              #\n",
    "##############################################################################\n",
    "```\n",
    "\n",
    "You should replace the `pass` statement with your own code and leave the blocks intact, like this:\n",
    "\n",
    "```python\n",
    "##############################################################################\n",
    "#                    TODO: Write the equation for a line                     #\n",
    "##############################################################################\n",
    "y = m * x + b\n",
    "##############################################################################\n",
    "#                              END OF YOUR CODE                              #\n",
    "##############################################################################\n",
    "```\n",
    "\n",
    "When completing the notebook, please adhere to the following rules:\n",
    "- Do not write or modify any code outside of code blocks\n",
    "- Follow the instruction of the project description carefully\n",
    "- Run all cells before submitting. <span style=\"color:red\">**You will only get credit for code that has been run!**.</span>\n",
    "\n",
    "The last point is extremely important and bears repeating:\n",
    "\n",
    "### We will not re-run your notebook -- <span style=\"color:red\">you will only get credit for cells that have been run</span>\n",
    "\n",
    "### File name\n",
    "Your Python program should be named **yourlastname_yourfirstname_P2.ipynb**, then zip it and upload to Canvas\n",
    "\n",
    "### Package usage\n",
    "You <span style=\"color:red\">**cannot**</span> use python machine learning package that can have the k-fold validation algorithm as embedded function, for instance, **sklearn** package."
   ]
  },
  {
   "cell_type": "markdown",
   "metadata": {},
   "source": [
    "# Project Description\n",
    "\n",
    "For Project 2 you will create a regression program and choose a model to predict the women’s Olympic 100-meter race record time for year **2024**. We will code the year of each race as we did in lecture 2.3. \n",
    "\n",
    "![caption](https://nianyil.people.clemson.edu/CPSC_4430/P2.jpg)\n"
   ]
  },
  {
   "cell_type": "markdown",
   "metadata": {},
   "source": [
    "## Data File"
   ]
  },
  {
   "cell_type": "markdown",
   "metadata": {},
   "source": [
    "A text file with the data is available on Canvas for the years 1928 through 2008 when the Olympics were held. The first line of the text file indicating there’re **m** lines of data and a **n** number of features (in this case, one). You need to write a code to read data from the file. You **can** use packages, such as **panda**, to load the data."
   ]
  },
  {
   "cell_type": "code",
   "execution_count": 1,
   "metadata": {},
   "outputs": [],
   "source": [
    "##############################################################################\n",
    "#         TODO: Write the code for reading data from file                    #\n",
    "##############################################################################\n",
    "import numpy as np\n",
    "import matplotlib.pyplot as plt\n",
    "from tabulate import tabulate\n",
    "\n",
    "open_file = open(\"W100MTimes.txt\", 'r')        # Opening file\n",
    "\n",
    "first_line = [int (x) for x in (open_file.readline()).split(\"\\t\")]   # Reading first line for no of features and data points\n",
    "\n",
    "# Created separate lists to store feature and label values\n",
    "t=[]\n",
    "feature = []\n",
    "label = []\n",
    "\n",
    "for i in range(first_line[0]):\n",
    "    t.append(tuple((open_file.readline()).split(\"\\t\")))\n",
    "    feature.append(float(t[i][0]))\n",
    "    label.append(float(t[i][1].strip()))\n",
    "\n",
    "##############################################################################\n",
    "#                              END OF YOUR CODE                              #\n",
    "##############################################################################"
   ]
  },
  {
   "cell_type": "markdown",
   "metadata": {},
   "source": [
    "## Pick the Best Model"
   ]
  },
  {
   "cell_type": "markdown",
   "metadata": {},
   "source": [
    "Your project assignment is to compare four different models, linear, quadratic, cubic, and fourth. \n",
    "\n",
    "- $h_w(x) = w_0 + w_1x$\n",
    "- $h_w(x) = w_0 + w_1x + w_2x^2$\n",
    "- $h_w(x) = w_0 + w_1x + w_2x^2 + w_3x^3$\n",
    "- $h_w(x) = w_0 + w_1x + w_2x^2 + w_3x^3 + w_4x^4$\n"
   ]
  },
  {
   "cell_type": "code",
   "execution_count": 2,
   "metadata": {},
   "outputs": [],
   "source": [
    "##############################################################################\n",
    "#                 TODO: Define the regression models                         #\n",
    "##############################################################################\n",
    "# Defined the regression models using a dictionary\n",
    "X = { 0 : np.array([[1, i] for i in feature]),\n",
    "     1 : np.array([[1, i, pow(i, 2)] for i in feature]),\n",
    "     2 : np.array([[1, i, pow(i, 2), pow(i, 3)] for i in feature]),\n",
    "     3 : np.array([[1, i, pow(i, 2), pow(i, 3), pow(i, 4)] for i in feature])}\n",
    "\n",
    "##############################################################################\n",
    "#                              END OF YOUR CODE                              #\n",
    "##############################################################################"
   ]
  },
  {
   "cell_type": "markdown",
   "metadata": {},
   "source": [
    "Next, you need to use <span style=\"color:red\">**5-fold cross validation**</span> to pick out the best model for the prediction. You should present a chart of the error function $J$, similar to the one in the lecture (see below). You may need to use package like \"**tabulate**\" to print out the table.\n",
    "\n",
    "```\n",
    "                     Linear    Quadratic    Cubic    Fourth\n",
    "-----------------  --------  -----------  -------  --------\n",
    "1234                  10.25        24.25    12.25     23.25\n",
    "5                     10.25        19.25    14.25     23.25\n",
    "1235                  10.25        15.25    19.25     23.25\n",
    "4                     10.25        10.25    20.25     23.25\n",
    "1245                  10.25        24.25    12.25     23.25\n",
    "3                     10.25        19.25    14.25     23.25\n",
    "1345                  10.25        24.25    12.25     23.25\n",
    "2                     10.25        19.25    14.25     23.25\n",
    "2345                  10.25        24.25    12.25     23.25\n",
    "1                     10.25        19.25    14.25     23.25\n",
    "Mean for Training      0            0        0         0\n",
    "Mean for Testing       0            0        0         0\n",
    "```\n",
    "\n",
    "You need to **plot** your training and testing $J$ with respect to the polynomial degree, similar to the one in the lecture."
   ]
  },
  {
   "cell_type": "code",
   "execution_count": 3,
   "metadata": {
    "scrolled": true
   },
   "outputs": [],
   "source": [
    "##############################################################################\n",
    "#                     TODO: 5-fold cross-validation                         #\n",
    "##############################################################################\n",
    "#                        Linear  Quadratic  Cubic  Fourth\n",
    "#jcost = [     '2345'|  [   0   ,    0    ,   0   ,   0], \n",
    "#                 '1'|  [   0   ,    0    ,   0   ,   0],\n",
    "#              '1345'|  [   0   ,    0    ,   0   ,   0],\n",
    "#                 '2'|  [   0   ,    0    ,   0   ,   0], \n",
    "#              '1245'|  [   0   ,    0    ,   0   ,   0], \n",
    "#                 '3'|  [   0   ,    0    ,   0   ,   0],\n",
    "#              '1235'|  [   0   ,    0    ,   0   ,   0],\n",
    "#                 '4'|  [   0   ,    0    ,   0   ,   0],\n",
    "#              '1234'|  [   0   ,    0    ,   0   ,   0],\n",
    "#                 '5'|  [   0   ,    0    ,   0   ,   0],\n",
    "# 'Mean for Training'|  [   0   ,    0    ,   0   ,   0],\n",
    "#  'Mean for Testing'|  [   0   ,    0    ,   0   ,   0],]\n",
    "     \n",
    "jcost = np.zeros(48).reshape(12,4)\n",
    "\n",
    "# returns w = (((𝑿.𝑻)𝑿)^−𝟏)(𝑿.𝑻)𝒚\n",
    "def w_function(w_ft,w_lbl):\n",
    "    return np.dot(np.linalg.inv(np.dot(w_ft.T,w_ft)),w_ft.T).dot(w_lbl)\n",
    "\n",
    "# returns J(w0, w1,..,wN) = (1/m)(𝑿w−y).T(𝑿w−y)\n",
    "def j_function(j_ft,j_lbl,w):\n",
    "    return np.dot((np.dot(j_ft,w) - j_lbl).T,(np.dot(j_ft,w) - j_lbl))/len(j_ft)\n",
    "\n",
    "x, y, k = 0, 0 ,1\n",
    "\n",
    "# 5-fold cross-validation \n",
    "for i in range(0,12,2):\n",
    "    x = y\n",
    "    y = min(19,k*4)\n",
    "    k += 1   \n",
    "    for j in range(4):\n",
    "        if i < 10:\n",
    "            \n",
    "            # Splitting the training set\n",
    "            xj = X[j].copy()\n",
    "            x_train = np.delete(xj, range(x,y), 0)\n",
    "            lbl_train = np.delete(label, range(x,y))\n",
    "            \n",
    "            # Update cost function value\n",
    "            jcost[i][j] = j_function(x_train, lbl_train, w_function(x_train, lbl_train)).round(2)\n",
    "\n",
    "            # Splitting the testing set\n",
    "            x_test = X[j][x:y].copy()\n",
    "            lbl_test = label[x:y]\n",
    "            \n",
    "            # Update cost function value\n",
    "            jcost[i+1][j] = j_function(x_test, lbl_test,w_function(x_train, lbl_train)).round(2)\n",
    "        \n",
    "        # Averaging Training and testing cost function values for the 5 folds\n",
    "        else:\n",
    "            jcost[i][j] = np.average(jcost[0:9:2, j])\n",
    "            jcost[i+1][j] = np.average(jcost[1:10:2, j])\n",
    "            \n",
    "##############################################################################\n",
    "#                              END OF YOUR CODE                              #\n",
    "##############################################################################"
   ]
  },
  {
   "cell_type": "code",
   "execution_count": 4,
   "metadata": {},
   "outputs": [
    {
     "name": "stdout",
     "output_type": "stream",
     "text": [
      "                     Linear    Quadratic    Cubic    Fourth\n",
      "-----------------  --------  -----------  -------  --------\n",
      "2345                  0.03         0.03     0.03       0.02\n",
      "1                     0.2          0.12     0.31       0.84\n",
      "1345                  0.05         0.04     0.03       0.03\n",
      "2                     0.04         0.04     0.03       0.03\n",
      "1245                  0.05         0.04     0.04       0.04\n",
      "3                     0.03         0.01     0.01       0.01\n",
      "1235                  0.05         0.03     0.03       0.03\n",
      "4                     0.06         0.05     0.06       0.09\n",
      "1234                  0.04         0.04     0.03       0.03\n",
      "5                     0.18         0.07     0.04       0.48\n",
      "Mean for Training     0.044        0.036    0.032      0.03\n",
      "Mean for Testing      0.102        0.058    0.09       0.29\n"
     ]
    }
   ],
   "source": [
    "##############################################################################\n",
    "#                     TODO: Print out the table chart                       #\n",
    "##############################################################################\n",
    "rowIDs = ['2345', '1','1345', '2','1245', '3','1235', '4','1234', '5', 'Mean for Training', 'Mean for Testing']\n",
    "colIDs = ['Linear', 'Quadratic', 'Cubic', 'Fourth']\n",
    "print(tabulate(jcost, headers = colIDs, showindex = rowIDs))\n",
    "##############################################################################\n",
    "#                              END OF YOUR CODE                              #\n",
    "##############################################################################"
   ]
  },
  {
   "cell_type": "code",
   "execution_count": 8,
   "metadata": {},
   "outputs": [
    {
     "data": {
      "image/png": "[encoded data removed]",
      "text/plain": [
       "<Figure size 432x288 with 1 Axes>"
      ]
     },
     "metadata": {
      "needs_background": "light"
     },
     "output_type": "display_data"
    }
   ],
   "source": [
    "##############################################################################\n",
    "#                     TODO: Plot the J curve                                 #\n",
    "##############################################################################\n",
    "plt.plot([1, 2, 3, 4], jcost[10], marker = 'o', label = 'Training')\n",
    "plt.plot([1, 2, 3, 4], jcost[11], marker = 'o', color = 'red', label = 'Testing')\n",
    "plt.title('Mean J for Training Vs Testing')\n",
    "plt.xlabel('Highest Ploynomial Degree')\n",
    "plt.ylabel('Squared Error Cost Function (J)')\n",
    "plt.legend()\n",
    "plt.show()\n",
    "##############################################################################\n",
    "#                              END OF YOUR CODE                              #\n",
    "##############################################################################"
   ]
  },
  {
   "cell_type": "markdown",
   "metadata": {},
   "source": [
    "Based on your data and plot, you should then briefly discuss **which model is the best** for the record time prediction.\n",
    "\n",
    "**Your Answer:**  Based on the data and plot, the average mean of squared error cost function (J) for testing is least for **Quadratic Regression Model**. Therefore, the quadratic regression model fits our data best among all analysed models. Hence, quadratic regression model is the best for the record time prediction."
   ]
  },
  {
   "cell_type": "markdown",
   "metadata": {},
   "source": [
    "Next, compute the final weights of the best model utilizing the **complete data set**"
   ]
  },
  {
   "cell_type": "code",
   "execution_count": 11,
   "metadata": {},
   "outputs": [
    {
     "name": "stdout",
     "output_type": "stream",
     "text": [
      "Final weights for Quadratic Regression Model:\n",
      " w0 -> 13.13\n",
      " w1 -> -0.04\n",
      " w2 -> 0.0\n"
     ]
    }
   ],
   "source": [
    "##############################################################################\n",
    "#              TODO: Calculate the final regression model                    #\n",
    "##############################################################################\n",
    "w = [w_function(X[i],label) for i in X.keys()]\n",
    "print(f'Final weights for Quadratic Regression Model:\\n w0 -> {w[1][0].round(2)}\\n w1 -> {w[1][1].round(2)}\\n w2 -> {w[1][2].round(2)}')\n",
    "##############################################################################\n",
    "#                              END OF YOUR CODE                              #\n",
    "##############################################################################"
   ]
  },
  {
   "cell_type": "markdown",
   "metadata": {},
   "source": [
    "## Prediction Using the Best Model"
   ]
  },
  {
   "cell_type": "markdown",
   "metadata": {},
   "source": [
    "Write a Python program that takes a **year** as input, then outputs the winning women’s Olympic 100-meter **race time** for that year (round to two decimal places). You need to try and print out the results of **at least three different years**, and the final trial should output the race time of **2024**."
   ]
  },
  {
   "cell_type": "code",
   "execution_count": 13,
   "metadata": {},
   "outputs": [
    {
     "name": "stdout",
     "output_type": "stream",
     "text": [
      "Please enter the Olympic year (after 1928) to predict the women's 100-meter race time:1952\n",
      "Women's 100-meter race time for year 1952: 11.44 sec \n",
      "Do you want to predict women's Olympic 100-meter race time for another year?(y/n): y\n",
      "Please enter the Olympic year (after 1928) to predict the women's 100-meter race time:2048\n",
      "Women's 100-meter race time for year 2048: 11.25 sec \n",
      "Do you want to predict women's Olympic 100-meter race time for another year?(y/n): y\n",
      "Please enter the Olympic year (after 1928) to predict the women's 100-meter race time:2024\n",
      "Women's 100-meter race time for year 2024: 10.94 sec \n",
      "Do you want to predict women's Olympic 100-meter race time for another year?(y/n): n\n"
     ]
    }
   ],
   "source": [
    "##############################################################################\n",
    "#         TODO: Predict the race time using the best model                   #\n",
    "##############################################################################\n",
    "ans = 'y'\n",
    "while ans.lower() == 'y':\n",
    "    while True:\n",
    "        year = int(input(\"Please enter the Olympic year (after 1928) to predict the women's 100-meter race time:\"))\n",
    "        if year in range(1928, 2065, 4):\n",
    "            break\n",
    "        else:\n",
    "            print(\"Please enter valid Olympic year!\")\n",
    "    year = year - 1900\n",
    "    print(f\"Women's 100-meter race time for year {year + 1900}: {(w[1][0] + (w[1][1]*year) + (w[1][2]*(year**2))).round(2)} sec \")\n",
    "    \n",
    "    while True:\n",
    "        ans = input(\"Do you want to predict women's Olympic 100-meter race time for another year?(y/n): \")\n",
    "        if ans in ['y','n','Y','N']:\n",
    "            break\n",
    "        else:\n",
    "            print(\"Please select from (y/n)!\")\n",
    "##############################################################################\n",
    "#                              END OF YOUR CODE                              #\n",
    "##############################################################################"
   ]
  }
 ],
 "metadata": {
  "kernelspec": {
   "display_name": "Python 3 (ipykernel)",
   "language": "python",
   "name": "python3"
  },
  "language_info": {
   "codemirror_mode": {
    "name": "ipython",
    "version": 3
   },
   "file_extension": ".py",
   "mimetype": "text/x-python",
   "name": "python",
   "nbconvert_exporter": "python",
   "pygments_lexer": "ipython3",
   "version": "3.9.12"
  }
 },
 "nbformat": 4,
 "nbformat_minor": 2
}
