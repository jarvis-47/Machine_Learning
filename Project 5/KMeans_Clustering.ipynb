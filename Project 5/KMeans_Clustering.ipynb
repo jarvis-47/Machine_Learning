{
 "cells": [
  {
   "cell_type": "markdown",
   "metadata": {},
   "source": [
    "# Project 5: K-Means Clustering\n",
    "\n",
    "Before we start, please put your name and CUID in following format\n",
    "\n",
    ": Firstname LASTNAME, #00000000   //   e.g. Nianyi LI, #12345678"
   ]
  },
  {
   "attachments": {},
   "cell_type": "markdown",
   "metadata": {},
   "source": [
    "**Your Answer:**   \n",
    "Parampreet Singh, C19377466"
   ]
  },
  {
   "cell_type": "markdown",
   "metadata": {},
   "source": [
    "# General Rules of the Project Submission\n",
    "\n",
    "Python 3 and [Matplotlib](https://matplotlib.org/) will be used throughout the semseter, so it is important to be familiar with them. It is strongly suggested to go through [Stanford CS231n](http://cs231n.github.io/python-numpy-tutorial/) and [CS228](https://github.com/kuleshov/cs228-material/blob/master/tutorials/python/cs228-python-tutorial.ipynb) for more detailed Python and numpy tutorials if you haven't had used Python before. \n",
    "\n",
    "In some cells and files you will see code blocks that look like this:\n",
    "\n",
    "```python\n",
    "##############################################################################\n",
    "#                    TODO: Write the equation for a line                     #\n",
    "##############################################################################\n",
    "pass\n",
    "##############################################################################\n",
    "#                              END OF YOUR CODE                              #\n",
    "##############################################################################\n",
    "```\n",
    "\n",
    "You should replace the `pass` statement with your own code and leave the blocks intact, like this:\n",
    "\n",
    "```python\n",
    "##############################################################################\n",
    "#                    TODO: Write the equation for a line                     #\n",
    "##############################################################################\n",
    "y = m * x + b\n",
    "##############################################################################\n",
    "#                              END OF YOUR CODE                              #\n",
    "##############################################################################\n",
    "```\n",
    "\n",
    "When completing the notebook, please adhere to the following rules:\n",
    "- Do not write or modify any code outside of code blocks\n",
    "- Follow the instruction of the project description carefully\n",
    "- Run all cells before submitting. <span style=\"color:red\">**You will only get credit for code that has been run!**.</span>\n",
    "\n",
    "The last point is extremely important and bears repeating:\n",
    "\n",
    "### We will not re-run your notebook -- <span style=\"color:red\">you will only get credit for cells that have been run</span>\n",
    "\n",
    "### File name\n",
    "Your Python program should be named **yourlastname_yourfirstname_P5.ipynb**, then zip it and upload to Canvas"
   ]
  },
  {
   "cell_type": "markdown",
   "metadata": {},
   "source": [
    "# Project Description\n",
    "\n",
    "For this project you will implement a **K-means** clustering algorithm.\n"
   ]
  },
  {
   "cell_type": "markdown",
   "metadata": {},
   "source": [
    "## Data File"
   ]
  },
  {
   "cell_type": "markdown",
   "metadata": {},
   "source": [
    "Two text files with the data is available on Canvas: a data file and a centroids file. You need to write a code to read data from the two files. \n",
    "\n",
    "The **data file** will be formatted with the first line containing m and n, tab separated, where m is the number of lines of data and n is the number of features (for this assignment n will be 2 but assume we still put it into the file.)\n",
    "\n",
    "Each line will contain two real values (feature $x_1$ and feature $x_2$), tab separated. Such as the following:\n",
    "```\n",
    "\n",
    "4\t2\n",
    "6.3\t6.0\n",
    "6.7\t5.8\n",
    "5.7\t4.1\n",
    "5.6\t3.9\n",
    "```\n",
    "The **centroid file** containing two initial centroids, formatted with the number of centroids on the first line and the coordinates of each centroid on the following lines, one centroid per line, tab separated. Such as:\n",
    "```\n",
    "2\n",
    "4 4\n",
    "6 6\n",
    "```\n",
    "\n",
    "You **can** use packages, such as **panda**, to load the data.\n"
   ]
  },
  {
   "cell_type": "code",
   "execution_count": 131,
   "metadata": {},
   "outputs": [],
   "source": [
    "import pandas as pd\n",
    "import numpy as np\n",
    "import matplotlib.pyplot as plt\n",
    "%matplotlib inline"
   ]
  },
  {
   "cell_type": "code",
   "execution_count": 132,
   "metadata": {},
   "outputs": [],
   "source": [
    "##############################################################################\n",
    "#         TODO: Write the code for reading data from files                    #\n",
    "##############################################################################\n",
    "\n",
    "\n",
    "# Code to load centroids' coordinates\n",
    "df_centroids = pd.read_csv(\"P5_Centroids.txt\",sep='\\t', header=None, skiprows=1)\n",
    "df_centroids.columns = ['x1', 'x2']\n",
    "with open(r\"C:\\Users\\param\\Jupyter\\Spring23\\Machine Learning\\Project 5\\P5_Centroids.txt\", 'r') as f:\n",
    "    num_centroids =  int(f.readline()[0])\n",
    "\n",
    "# Code to load data points' coordinates\n",
    "df = pd.read_csv(\"P5_Data.txt\", sep='\\t', header=None, skiprows=1)\n",
    "df.columns = ['x1', 'x2']\n",
    "with open(r\"C:\\Users\\param\\Jupyter\\Spring23\\Machine Learning\\Project 5\\P5_Data.txt\", 'r') as f:\n",
    "    num_x1, num_x2 =  map(int, (f.readline().split()))\n",
    "##############################################################################\n",
    "#                              END OF YOUR CODE                              #\n",
    "##############################################################################"
   ]
  },
  {
   "cell_type": "markdown",
   "metadata": {},
   "source": [
    "Next, you need to print out a plot of the data to the screen, including the two initial centroids (color coded) like the following figure:\n",
    "\n",
    "<div>\n",
    "<img src=\"https://nianyil.people.clemson.edu/CPSC_4430/P5_1.jpg\" width=\"400\"/>\n",
    "</div>"
   ]
  },
  {
   "cell_type": "code",
   "execution_count": 133,
   "metadata": {},
   "outputs": [
    {
     "data": {
      "image/png": "[encoded data removed]",
      "text/plain": [
       "<Figure size 640x480 with 1 Axes>"
      ]
     },
     "metadata": {},
     "output_type": "display_data"
    }
   ],
   "source": [
    "ax = df.plot(kind='scatter', x='x1', y='x2', color='purple', title='Initial Data Points')\n",
    "df_centroids.plot(kind='scatter', x='x1', y='x2', c=df_centroids['x1'], colormap='RdYlGn', marker='v', s=50, ax=ax, colorbar=None, xlabel='x1 Axis', ylabel='x2 Axis')\n",
    "plt.show()"
   ]
  },
  {
   "cell_type": "markdown",
   "metadata": {},
   "source": [
    "## K-means Clustering"
   ]
  },
  {
   "cell_type": "markdown",
   "metadata": {},
   "source": [
    "Implement K-means (**K=2**) to cluster the data into two groups."
   ]
  },
  {
   "cell_type": "code",
   "execution_count": 134,
   "metadata": {},
   "outputs": [
    {
     "name": "stdout",
     "output_type": "stream",
     "text": [
      "Converged\n",
      "               x1        x2\n",
      "cluster                    \n",
      "0        5.016364  3.341818\n",
      "1        6.026667  2.791111\n"
     ]
    }
   ],
   "source": [
    "##############################################################################\n",
    "#                TODO: Implement the K-means clustering                      #\n",
    "##############################################################################\n",
    "while True:\n",
    "    df['distance_c1'] = np.sqrt(np.square(df['x1'] - df_centroids.iloc[0,0]) + np.square(df['x2'] - df_centroids.iloc[0,1]))\n",
    "    df['distance_c2'] = np.sqrt(np.square(df['x1'] - df_centroids.iloc[1,0]) + np.square(df['x2'] - df_centroids.iloc[1,1]))\n",
    "    df['cluster'] = (df['distance_c1'] < df['distance_c2']).astype(int)\n",
    "    df_centroids = df.groupby('cluster').mean().loc[:,['x1', 'x2']]\n",
    "    if df['cluster'].equals(df['cluster']):\n",
    "        print(\"Converged\")\n",
    "        print(df_centroids)\n",
    "        break\n",
    "##############################################################################\n",
    "#                              END OF YOUR CODE                              #\n",
    "##############################################################################"
   ]
  },
  {
   "cell_type": "markdown",
   "metadata": {},
   "source": [
    "Once the algorithm converged, print out a plot of the cluster data with each cluster color coded along with the final centroids like the following:\n",
    "<div>\n",
    "<img src=\"https://nianyil.people.clemson.edu/CPSC_4430/P5_2.jpg\" width=\"400\"/>\n",
    "</div>"
   ]
  },
  {
   "cell_type": "code",
   "execution_count": 135,
   "metadata": {},
   "outputs": [
    {
     "data": {
      "image/png": "[encoded data removed]",
      "text/plain": [
       "<Figure size 640x480 with 1 Axes>"
      ]
     },
     "metadata": {},
     "output_type": "display_data"
    }
   ],
   "source": [
    "##############################################################################\n",
    "#                TODO: Plot the clustering result                           #\n",
    "##############################################################################\n",
    "ax = df.plot(kind='scatter', x='x1', y='x2',c=df['cluster'], colormap='RdYlGn', title='Clustered Data Points', colorbar=None,)\n",
    "df_centroids.plot(kind='scatter', x='x1', y='x2', c=df_centroids['x1'], colormap='RdYlGn', marker='v', s=80, ax=ax, colorbar=None, xlabel='x1 Axis', ylabel='x2 Axis')\n",
    "plt.show()\n",
    "##############################################################################\n",
    "#                              END OF YOUR CODE                              #\n",
    "##############################################################################"
   ]
  },
  {
   "cell_type": "markdown",
   "metadata": {},
   "source": [
    "Next, print out the coordinates of the final centroids."
   ]
  },
  {
   "cell_type": "code",
   "execution_count": 136,
   "metadata": {},
   "outputs": [
    {
     "data": {
      "text/html": [
       "<div>\n",
       "<style scoped>\n",
       "    .dataframe tbody tr th:only-of-type {\n",
       "        vertical-align: middle;\n",
       "    }\n",
       "\n",
       "    .dataframe tbody tr th {\n",
       "        vertical-align: top;\n",
       "    }\n",
       "\n",
       "    .dataframe thead th {\n",
       "        text-align: right;\n",
       "    }\n",
       "</style>\n",
       "<table border=\"1\" class=\"dataframe\">\n",
       "  <thead>\n",
       "    <tr style=\"text-align: right;\">\n",
       "      <th></th>\n",
       "      <th>x1</th>\n",
       "      <th>x2</th>\n",
       "    </tr>\n",
       "    <tr>\n",
       "      <th>cluster</th>\n",
       "      <th></th>\n",
       "      <th></th>\n",
       "    </tr>\n",
       "  </thead>\n",
       "  <tbody>\n",
       "    <tr>\n",
       "      <th>0</th>\n",
       "      <td>5.016364</td>\n",
       "      <td>3.341818</td>\n",
       "    </tr>\n",
       "    <tr>\n",
       "      <th>1</th>\n",
       "      <td>6.026667</td>\n",
       "      <td>2.791111</td>\n",
       "    </tr>\n",
       "  </tbody>\n",
       "</table>\n",
       "</div>"
      ],
      "text/plain": [
       "               x1        x2\n",
       "cluster                    \n",
       "0        5.016364  3.341818\n",
       "1        6.026667  2.791111"
      ]
     },
     "execution_count": 136,
     "metadata": {},
     "output_type": "execute_result"
    }
   ],
   "source": [
    "##############################################################################\n",
    "#       TODO: print out the final centroids' coordinates                     #\n",
    "##############################################################################\n",
    "df_centroids.head()\n",
    "##############################################################################\n",
    "#                              END OF YOUR CODE                              #\n",
    "##############################################################################"
   ]
  },
  {
   "cell_type": "markdown",
   "metadata": {},
   "source": [
    "## Model Evaluation"
   ]
  },
  {
   "cell_type": "markdown",
   "metadata": {},
   "source": [
    "Compute and **print out the overall error** (J function presented in the course slides) for the entire data set.\n"
   ]
  },
  {
   "cell_type": "code",
   "execution_count": 137,
   "metadata": {},
   "outputs": [
    {
     "name": "stdout",
     "output_type": "stream",
     "text": [
      "Overall Error (J Function): 0.303991\n"
     ]
    }
   ],
   "source": [
    "##############################################################################\n",
    "#                           TODO: Model Evaluation                           #\n",
    "##############################################################################\n",
    "loss_k1 = np.mean(np.square(df.loc[df['cluster']== 0, 'x1'] - df_centroids.iloc[0,0]) + np.square(df.loc[df['cluster']== 0, 'x2'] - df_centroids.iloc[0,1]))\n",
    "loss_k2 = np.mean(np.square(df.loc[df['cluster']== 1, 'x1'] - df_centroids.iloc[1,0]) + np.square(df.loc[df['cluster']== 1, 'x2'] - df_centroids.iloc[1,1]))\n",
    "loss = np.mean([loss_k1, loss_k2])\n",
    "print(f\"Overall Error (J Function): {loss:.6f}\" )\n",
    "##############################################################################\n",
    "#                              END OF YOUR CODE                              #\n",
    "##############################################################################"
   ]
  }
 ],
 "metadata": {
  "kernelspec": {
   "display_name": "Python 3 (ipykernel)",
   "language": "python",
   "name": "python3"
  },
  "language_info": {
   "codemirror_mode": {
    "name": "ipython",
    "version": 3
   },
   "file_extension": ".py",
   "mimetype": "text/x-python",
   "name": "python",
   "nbconvert_exporter": "python",
   "pygments_lexer": "ipython3",
   "version": "3.8.16"
  }
 },
 "nbformat": 4,
 "nbformat_minor": 2
}
