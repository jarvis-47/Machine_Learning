{
 "cells": [
  {
   "cell_type": "markdown",
   "metadata": {},
   "source": [
    "# Project 1: Basic plotting in Python 3 with matplotlib.pyplot"
   ]
  },
  {
   "cell_type": "markdown",
   "metadata": {},
   "source": [
    "Parampreet SINGH, C19377466"
   ]
  },
  {
   "cell_type": "markdown",
   "metadata": {},
   "source": [
    "# General Rules of the Project Submission\n",
    "\n",
    "Python 3 and [Matplotlib](https://matplotlib.org/) will be used throughout the semseter, so it is important to be familiar with them. It is strongly suggested to go through [Stanford CS231n](http://cs231n.github.io/python-numpy-tutorial/) and [CS228](https://github.com/kuleshov/cs228-material/blob/master/tutorials/python/cs228-python-tutorial.ipynb) for more detailed Python and numpy tutorials if you haven't had used Python before. \n",
    "\n",
    "In some cells and files you will see code blocks that look like this:\n",
    "\n",
    "```python\n",
    "##############################################################################\n",
    "#                    TODO: Write the equation for a line                     #\n",
    "##############################################################################\n",
    "pass\n",
    "##############################################################################\n",
    "#                              END OF YOUR CODE                              #\n",
    "##############################################################################\n",
    "```\n",
    "\n",
    "You should replace the `pass` statement with your own code and leave the blocks intact, like this:\n",
    "\n",
    "```python\n",
    "##############################################################################\n",
    "#                    TODO: Write the equation for a line                     #\n",
    "##############################################################################\n",
    "y = m * x + b\n",
    "##############################################################################\n",
    "#                              END OF YOUR CODE                              #\n",
    "##############################################################################\n",
    "```\n",
    "\n",
    "When completing the notebook, please adhere to the following rules:\n",
    "- Do not write or modify any code outside of code blocks\n",
    "- Follow the instruction of the project description carefully\n",
    "- Run all cells before submitting. <span style=\"color:red\">**You will only get credit for code that has been run!**.</span>\n",
    "\n",
    "The last point is extremely important and bears repeating:\n",
    "\n",
    "### We will not re-run your notebook -- <span style=\"color:red\">you will only get credit for cells that have been run</span>\n",
    "\n",
    "### File name\n",
    "Your Python program should be named **yourlastname_yourfirstname_P1.ipynb**, then zip it and upload to Canvas"
   ]
  },
  {
   "cell_type": "markdown",
   "metadata": {},
   "source": [
    "# Python 3\n",
    "\n",
    "If you're unfamiliar with Python 3, here are some of the most common changes from Python 2 to look out for."
   ]
  },
  {
   "cell_type": "markdown",
   "metadata": {},
   "source": [
    "### Print is a function"
   ]
  },
  {
   "cell_type": "code",
   "execution_count": 1,
   "metadata": {},
   "outputs": [
    {
     "name": "stdout",
     "output_type": "stream",
     "text": [
      "Hello!\n"
     ]
    }
   ],
   "source": [
    "print(\"Hello!\")"
   ]
  },
  {
   "cell_type": "markdown",
   "metadata": {},
   "source": [
    "Without parentheses, printing will not work."
   ]
  },
  {
   "cell_type": "markdown",
   "metadata": {},
   "source": [
    "### Floating point division by default"
   ]
  },
  {
   "cell_type": "code",
   "execution_count": 2,
   "metadata": {},
   "outputs": [
    {
     "data": {
      "text/plain": [
       "2.5"
      ]
     },
     "execution_count": 2,
     "metadata": {},
     "output_type": "execute_result"
    }
   ],
   "source": [
    "5 / 2"
   ]
  },
  {
   "cell_type": "markdown",
   "metadata": {},
   "source": [
    "To do integer division, we use two backslashes:"
   ]
  },
  {
   "cell_type": "code",
   "execution_count": 3,
   "metadata": {},
   "outputs": [
    {
     "data": {
      "text/plain": [
       "2"
      ]
     },
     "execution_count": 3,
     "metadata": {},
     "output_type": "execute_result"
    }
   ],
   "source": [
    "5 // 2"
   ]
  },
  {
   "cell_type": "markdown",
   "metadata": {},
   "source": [
    "### No xrange"
   ]
  },
  {
   "cell_type": "markdown",
   "metadata": {},
   "source": [
    "The xrange from Python 2 is now merged into \"range\" for Python 3 and there is no xrange in Python 3. In Python 3, range(3) does not create a list of 3 elements as it would in Python 2, rather just creates a more memory efficient iterator.\n",
    "\n",
    "Hence,\n",
    "xrange in Python 3: Does not exist\n",
    "range in Python 3: Has very similar behavior to Python 2's xrange"
   ]
  },
  {
   "cell_type": "code",
   "execution_count": 4,
   "metadata": {},
   "outputs": [
    {
     "name": "stdout",
     "output_type": "stream",
     "text": [
      "0\n",
      "1\n",
      "2\n"
     ]
    }
   ],
   "source": [
    "for i in range(3):\n",
    "    print(i)"
   ]
  },
  {
   "cell_type": "code",
   "execution_count": 5,
   "metadata": {},
   "outputs": [
    {
     "data": {
      "text/plain": [
       "range(0, 3)"
      ]
     },
     "execution_count": 5,
     "metadata": {},
     "output_type": "execute_result"
    }
   ],
   "source": [
    "range(3)"
   ]
  },
  {
   "cell_type": "code",
   "execution_count": 6,
   "metadata": {},
   "outputs": [
    {
     "name": "stdout",
     "output_type": "stream",
     "text": [
      "[0, 1, 2]\n"
     ]
    }
   ],
   "source": [
    "# If need be, can use the following to get a similar behavior to Python 2's range:\n",
    "print(list(range(3)))"
   ]
  },
  {
   "cell_type": "markdown",
   "metadata": {},
   "source": [
    "# Project Description"
   ]
  },
  {
   "cell_type": "markdown",
   "metadata": {},
   "source": [
    "## Data File"
   ]
  },
  {
   "cell_type": "markdown",
   "metadata": {},
   "source": [
    "The first line of `IrisData.txt` contains two integers. The first represents how many lines of data are in the file. The second how many features are associated with each line. Each line after that contains four floating point values representing the sepal length, sepal width, petal length, and petal width of a type of iris flower, followed by the name of the iris type: either setosa, versicolor, or virginica. Values are tab separated."
   ]
  },
  {
   "cell_type": "markdown",
   "metadata": {},
   "source": [
    "## Python Program"
   ]
  },
  {
   "cell_type": "markdown",
   "metadata": {},
   "source": [
    "Write a Python program that will print out a **two-dimensional plot** of any two features for all three varieties of iris flowers using the features of `matplotlib.pyplot`. Your program should begin by asking for the name of the input file. For example:\n",
    "```python\n",
    "Enter the name of your data file: Irisdata.txt\n",
    "```"
   ]
  },
  {
   "cell_type": "code",
   "execution_count": 1,
   "metadata": {},
   "outputs": [
    {
     "name": "stdout",
     "output_type": "stream",
     "text": [
      "Enter the name of your data file:Irisdata.txt\n"
     ]
    }
   ],
   "source": [
    "##############################################################################\n",
    "#         TODO: Write the code for reading data from file                    #\n",
    "##############################################################################\n",
    "# Importing required libraries\n",
    "import numpy as np\n",
    "import matplotlib.pyplot as plt\n",
    "\n",
    "# Opening file\n",
    "input_file = input(\"Enter the name of your data file:\")\n",
    "open_file = open(input_file, \"r\")\n",
    "\n",
    "# Reading file\n",
    "line_1 = open_file.readline()\n",
    "\n",
    "# Converting line 1 of file into list with integer values\n",
    "line_1_int = [int(x) for x in line_1.split(\"\\t\")]\n",
    "\n",
    "# Add 1 to 2nd column as python excludes upper limit while using range function\n",
    "line_1_int[1] = line_1_int[1]+1\n",
    "\n",
    "# Create an 2-D array of zeros with rows and columns as per file data distribution\n",
    "data = np.zeros([line_1_int[0],line_1_int[1]], dtype = object)\n",
    "\n",
    "# Filling file data into the 2D array\n",
    "for i in range(line_1_int[0]):\n",
    "    data_string = open_file.readline()\n",
    "    t = data_string.split(\"\\t\")\n",
    "    \n",
    "    for j in range(line_1_int[1]):\n",
    "        \n",
    "        # Put first 4 columns of array as floating point numbers and last column of array as string containg iris type\n",
    "        if j < 4:\n",
    "            data[i,j] = float(t[j])\n",
    "        else:\n",
    "            data[i,j] = t[j].strip() \n",
    "\n",
    "# Close the file\n",
    "open_file.close()\n",
    "\n",
    "##############################################################################\n",
    "#                              END OF YOUR CODE                              #\n",
    "##############################################################################"
   ]
  },
  {
   "cell_type": "markdown",
   "metadata": {},
   "source": [
    "Then the program should prompt the user for two features to plot. For example, it could say:\n",
    "```\n",
    "You can do a plot of any two features of the Iris Data set The feature codes are:\n",
    "0 = sepal length\n",
    "1 = sepal width\n",
    "2 = petal length\n",
    "3 = petal width\n",
    "```\n",
    "```python\n",
    "Enter feature code For the horizontal axis: 0\n",
    "Enter feature code For the vertical axis: 1\n",
    "```"
   ]
  },
  {
   "cell_type": "code",
   "execution_count": 4,
   "metadata": {},
   "outputs": [],
   "source": [
    "##############################################################################\n",
    "#   TODO: Write the function for plotting using two features of the data     #\n",
    "##############################################################################\n",
    "def plot_feature_map():\n",
    "    print(\"You can do a plot of any two features of the Iris Data set. The feature codes are: \\n\"\n",
    "    \"0 = sepal length \\n\"\n",
    "    \"1 = sepal width \\n\"\n",
    "    \"2 = petal length\\n\"\n",
    "    \"3 = petal width\")\n",
    "    \n",
    "    # Get user inputs for feature codes\n",
    "    horizontal_axis = int(input(\"Enter feature code For the horizontal axis:\"))\n",
    "    vertical_axis = int(input(\"Enter feature code For the vertical axis:\"))\n",
    "    \n",
    "    # Plot data using scatter plot from matplotlib library\n",
    "    for i in range(line_1_int[0]):\n",
    "        if data[i,4] == 'setosa':\n",
    "            x = plt.scatter(data[i,horizontal_axis], data[i,vertical_axis], color = 'green', marker = 'v')\n",
    "        elif data[i,4] == 'versicolor':\n",
    "            y = plt.scatter(data[i,horizontal_axis], data[i,vertical_axis], color = 'blue', marker = 'o')\n",
    "        else:\n",
    "            z = plt.scatter(data[i,horizontal_axis], data[i,vertical_axis], color = 'red', marker = '+')\n",
    "    \n",
    "    axis_title = {0:'Sepal Length', 1:'Sepal Width', 2:'Petal Length', 3:'Petal Width'}\n",
    "    plt.xlabel(f'{axis_title[horizontal_axis]}')\n",
    "    plt.ylabel(f'{axis_title[vertical_axis]}')\n",
    "    plt.title(\"Iris Flower Plot\")\n",
    "    plt.legend([x, y, z],[\"setosa\", \"versicolor\", \"virginica\"])\n",
    "    \n",
    "    plt.savefig(\"foo.png\", bbox_inches=\"tight\")\n",
    "    plt.show()\n",
    "\n",
    "##############################################################################\n",
    "#                              END OF YOUR CODE                              #\n",
    "##############################################################################"
   ]
  },
  {
   "cell_type": "markdown",
   "metadata": {},
   "source": [
    "Once the program does a plot it should ask the user if they want to another plot. For example:\n",
    "\n",
    "> Would you like to do another plot? (y/n) `y`\n",
    "\n",
    "\n",
    "If the answer is `y`, then the user should be prompted for new features to plot on the horizontal and vertical axes as before and a new plot generated. `n` should end the program.\n",
    "\n",
    "Plots should be labelled with a *title, axes should be labelled*, there should be a *legend* and all three varieties should be **color coded** and have different symbols. An example is shown below.\n",
    "\n",
    "![caption](https://nianyil.people.clemson.edu/CPSC_4430/P1.png)\n",
    "\n",
    "You need to try **at least 3 plots with different x and y labels combination**."
   ]
  },
  {
   "cell_type": "code",
   "execution_count": 6,
   "metadata": {},
   "outputs": [
    {
     "name": "stdout",
     "output_type": "stream",
     "text": [
      "You can do a plot of any two features of the Iris Data set. The feature codes are: \n",
      "0 = sepal length \n",
      "1 = sepal width \n",
      "2 = petal length\n",
      "3 = petal width\n",
      "Enter feature code For the horizontal axis:0\n",
      "Enter feature code For the vertical axis:1\n"
     ]
    },
    {
     "data": {
      "image/png": "[encoded data removed]",
      "text/plain": [
       "<Figure size 432x288 with 1 Axes>"
      ]
     },
     "metadata": {
      "needs_background": "light"
     },
     "output_type": "display_data"
    },
    {
     "name": "stdout",
     "output_type": "stream",
     "text": [
      "Would you like to do another plot? (y/n)Y\n",
      "Invalid Input! Please choose from (y/n)\n",
      "Would you like to do another plot? (y/n)y\n",
      "You can do a plot of any two features of the Iris Data set. The feature codes are: \n",
      "0 = sepal length \n",
      "1 = sepal width \n",
      "2 = petal length\n",
      "3 = petal width\n",
      "Enter feature code For the horizontal axis:0\n",
      "Enter feature code For the vertical axis:2\n"
     ]
    },
    {
     "data": {
      "image/png": "[encoded data removed]",
      "text/plain": [
       "<Figure size 432x288 with 1 Axes>"
      ]
     },
     "metadata": {
      "needs_background": "light"
     },
     "output_type": "display_data"
    },
    {
     "name": "stdout",
     "output_type": "stream",
     "text": [
      "Would you like to do another plot? (y/n)y\n",
      "You can do a plot of any two features of the Iris Data set. The feature codes are: \n",
      "0 = sepal length \n",
      "1 = sepal width \n",
      "2 = petal length\n",
      "3 = petal width\n",
      "Enter feature code For the horizontal axis:0\n",
      "Enter feature code For the vertical axis:3\n"
     ]
    },
    {
     "data": {
      "image/png": "[encoded data removed]",
      "text/plain": [
       "<Figure size 432x288 with 1 Axes>"
      ]
     },
     "metadata": {
      "needs_background": "light"
     },
     "output_type": "display_data"
    },
    {
     "name": "stdout",
     "output_type": "stream",
     "text": [
      "Would you like to do another plot? (y/n)y\n",
      "You can do a plot of any two features of the Iris Data set. The feature codes are: \n",
      "0 = sepal length \n",
      "1 = sepal width \n",
      "2 = petal length\n",
      "3 = petal width\n",
      "Enter feature code For the horizontal axis:1\n",
      "Enter feature code For the vertical axis:2\n"
     ]
    },
    {
     "data": {
      "image/png": "[encoded data removed]",
      "text/plain": [
       "<Figure size 432x288 with 1 Axes>"
      ]
     },
     "metadata": {
      "needs_background": "light"
     },
     "output_type": "display_data"
    },
    {
     "name": "stdout",
     "output_type": "stream",
     "text": [
      "Would you like to do another plot? (y/n)y\n",
      "You can do a plot of any two features of the Iris Data set. The feature codes are: \n",
      "0 = sepal length \n",
      "1 = sepal width \n",
      "2 = petal length\n",
      "3 = petal width\n",
      "Enter feature code For the horizontal axis:1\n",
      "Enter feature code For the vertical axis:3\n"
     ]
    },
    {
     "data": {
      "image/png": "[encoded data removed]",
      "text/plain": [
       "<Figure size 432x288 with 1 Axes>"
      ]
     },
     "metadata": {
      "needs_background": "light"
     },
     "output_type": "display_data"
    },
    {
     "name": "stdout",
     "output_type": "stream",
     "text": [
      "Would you like to do another plot? (y/n)y\n",
      "You can do a plot of any two features of the Iris Data set. The feature codes are: \n",
      "0 = sepal length \n",
      "1 = sepal width \n",
      "2 = petal length\n",
      "3 = petal width\n",
      "Enter feature code For the horizontal axis:2\n",
      "Enter feature code For the vertical axis:3\n"
     ]
    },
    {
     "data": {
      "image/png": "[encoded data removed]",
      "text/plain": [
       "<Figure size 432x288 with 1 Axes>"
      ]
     },
     "metadata": {
      "needs_background": "light"
     },
     "output_type": "display_data"
    },
    {
     "name": "stdout",
     "output_type": "stream",
     "text": [
      "Would you like to do another plot? (y/n)n\n"
     ]
    }
   ],
   "source": [
    "## #          TODO: Use the loop function for plotting figures                 #\n",
    "##############################################################################\n",
    "ans = 'y'\n",
    "\n",
    "# Call plotting function while user input is 'y'\n",
    "while ans == 'y':\n",
    "    plot_feature_map()\n",
    "\n",
    "# Check to ensure user inputs either 'y' or 'n' only\n",
    "    while True:\n",
    "        ans = input(\"Would you like to do another plot? (y/n)\")\n",
    "        if ans in ['y', 'n']:\n",
    "            break\n",
    "        else:\n",
    "            print(\"Invalid Input! Please choose from (y/n)\")\n",
    "\n",
    "##############################################################################\n",
    "#                              END OF YOUR CODE                              #\n",
    "##############################################################################"
   ]
  },
  {
   "cell_type": "markdown",
   "metadata": {},
   "source": [
    "# Conclusion\n",
    "\n",
    "Briefly discuss **which feature combination is the best** for classify the iris data."
   ]
  },
  {
   "cell_type": "markdown",
   "metadata": {},
   "source": [
    "**Your Answer:**  "
   ]
  },
  {
   "cell_type": "markdown",
   "metadata": {},
   "source": [
    "The best feature combination for Iris Flower Plot is \"Petal Length V/s Petal Width\". This feature combination allows the user to visually distinguish between the three iris types. Also, for this feature combination, the datapoints are set apart in different (x,y) plot regions such as setosa lies within [(0,0),(2,0),(0,1),(2,1)] and so on and so forth."
   ]
  }
 ],
 "metadata": {
  "kernelspec": {
   "display_name": "Python 3 (ipykernel)",
   "language": "python",
   "name": "python3"
  },
  "language_info": {
   "codemirror_mode": {
    "name": "ipython",
    "version": 3
   },
   "file_extension": ".py",
   "mimetype": "text/x-python",
   "name": "python",
   "nbconvert_exporter": "python",
   "pygments_lexer": "ipython3",
   "version": "3.9.12"
  }
 },
 "nbformat": 4,
 "nbformat_minor": 2
}
